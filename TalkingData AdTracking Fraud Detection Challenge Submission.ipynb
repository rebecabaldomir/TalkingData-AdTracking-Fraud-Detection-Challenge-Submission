{
 "cells": [
  {
   "cell_type": "markdown",
   "metadata": {},
   "source": [
    "TalkingData AdTracking Fraud Detection Challenge Submission\n",
    "================================"
   ]
  },
  {
   "cell_type": "markdown",
   "metadata": {},
   "source": [
    " A TalkingData, a maior plataforma de big data independente da China, cobre mais de 70% dos dispositivos móveis ativos em todo o país. Eles lidam com 3 bilhões de cliques por dia, dos quais 90% são potencialmente fraudulentos. Sua abordagem atual para impedir fraudes de cliques para desenvolvedores de aplicativos é medir a jornada do clique de um usuário em todo o portfólio e sinalizar endereços IP que produzem muitos cliques, mas nunca acabam instalando aplicativos. Com essas informações, eles criaram uma lista negra de IP e uma lista negra de dispositivos.\n",
    "\n",
    "  Embora bem-sucedidos, eles querem estar sempre um passo à frente dos fraudadores e pediram ajuda à comunidade de Kaggle para desenvolver ainda mais a solução. Em sua segunda competição com a Kaggle, você é desafiado a criar um algoritmo que prevê se um usuário fará o download de um aplicativo depois de clicar em um anúncio de aplicativo para dispositivos móveis. Para dar suporte à sua modelagem, eles forneceram um conjunto de dados generoso cobrindo aproximadamente 200 milhões de cliques em 4 dias!"
   ]
  },
  {
   "cell_type": "markdown",
   "metadata": {},
   "source": [
    "Bibliotecas\n",
    "-----------"
   ]
  },
  {
   "cell_type": "code",
   "execution_count": 1,
   "metadata": {
    "collapsed": true
   },
   "outputs": [],
   "source": [
    "import sklearn\n",
    "import numpy as np \n",
    "import pandas as pd\n",
    "import lightgbm as lgb"
   ]
  },
  {
   "cell_type": "code",
   "execution_count": 2,
   "metadata": {
    "collapsed": true
   },
   "outputs": [],
   "source": [
    "%matplotlib inline"
   ]
  },
  {
   "cell_type": "markdown",
   "metadata": {},
   "source": [
    "Leitura dos dados\n",
    "-------------------"
   ]
  },
  {
   "cell_type": "code",
   "execution_count": null,
   "metadata": {
    "collapsed": true
   },
   "outputs": [],
   "source": [
    "data = pd.read_csv('train.csv')\n",
    "#print data\n",
    "y = data['is_attributed']\n",
    "X = data.drop(['is_attributed', 'click_time', 'attributed_time'], axis=1)"
   ]
  },
  {
   "cell_type": "code",
   "execution_count": 4,
   "metadata": {},
   "outputs": [
    {
     "name": "stdout",
     "output_type": "stream",
     "text": [
      "           ip  app  device  os  channel           click_time attributed_time  \\\n",
      "0       87540   12       1  13      497  2017-11-07 09:30:38             NaN   \n",
      "1      105560   25       1  17      259  2017-11-07 13:40:27             NaN   \n",
      "2      101424   12       1  19      212  2017-11-07 18:05:24             NaN   \n",
      "3       94584   13       1  13      477  2017-11-07 04:58:08             NaN   \n",
      "4       68413   12       1   1      178  2017-11-09 09:00:09             NaN   \n",
      "5       93663    3       1  17      115  2017-11-09 01:22:13             NaN   \n",
      "6       17059    1       1  17      135  2017-11-09 01:17:58             NaN   \n",
      "7      121505    9       1  25      442  2017-11-07 10:01:53             NaN   \n",
      "8      192967    2       2  22      364  2017-11-08 09:35:17             NaN   \n",
      "9      143636    3       1  19      135  2017-11-08 12:35:26             NaN   \n",
      "10      73839    3       1  22      489  2017-11-08 08:14:37             NaN   \n",
      "11      34812    3       1  13      489  2017-11-07 05:03:14             NaN   \n",
      "12     114809    3       1  22      205  2017-11-09 10:24:23             NaN   \n",
      "13     114220    6       1  20      125  2017-11-08 14:46:16             NaN   \n",
      "14      36150    2       1  13      205  2017-11-07 00:54:09             NaN   \n",
      "15      72116   25       2  19      259  2017-11-08 23:17:45             NaN   \n",
      "16       5314    2       1   2      477  2017-11-09 07:33:41             NaN   \n",
      "17     106598    3       1  20      280  2017-11-09 03:44:35             NaN   \n",
      "18      72065   20       2  90      259  2017-11-06 23:14:08             NaN   \n",
      "19      37301   14       1  13      349  2017-11-06 20:07:00             NaN   \n",
      "20      28735   12       1  19      265  2017-11-09 09:55:22             NaN   \n",
      "21      66918   64       1  25      459  2017-11-08 17:01:58             NaN   \n",
      "22      25761    9       1  10      215  2017-11-08 02:05:37             NaN   \n",
      "23       8362    7       1  19      101  2017-11-07 10:30:00             NaN   \n",
      "24      45257    3       1  18      280  2017-11-07 01:35:31             NaN   \n",
      "25     145896   64       1  13      459  2017-11-07 03:58:58             NaN   \n",
      "26     162976    3       1  13      115  2017-11-07 16:19:05             NaN   \n",
      "27      52432    1       1  13      115  2017-11-07 17:22:52             NaN   \n",
      "28     135690   12       1  40      122  2017-11-07 06:39:04             NaN   \n",
      "29     139137   12       1  13      497  2017-11-07 10:11:50             NaN   \n",
      "...       ...  ...     ...  ..      ...                  ...             ...   \n",
      "99970   57451    3       1   6      130  2017-11-09 13:35:55             NaN   \n",
      "99971   22529    3       1  22      173  2017-11-08 00:30:44             NaN   \n",
      "99972  118977   15       1  25      245  2017-11-07 05:02:52             NaN   \n",
      "99973  153487    2       1  42      477  2017-11-09 00:59:38             NaN   \n",
      "99974   13487   14       1  19      379  2017-11-08 08:08:40             NaN   \n",
      "99975   34029   14       1  13      467  2017-11-09 15:32:57             NaN   \n",
      "99976    6908   14       1  18      123  2017-11-07 22:59:12             NaN   \n",
      "99977    5788   18       1  58      439  2017-11-09 14:22:21             NaN   \n",
      "99978  190943    7       1  13      101  2017-11-09 11:47:49             NaN   \n",
      "99979   19162    9       1  37      489  2017-11-09 11:19:28             NaN   \n",
      "99980  111025   14       1  41      349  2017-11-08 12:58:11             NaN   \n",
      "99981   15651   10       1   1      377  2017-11-09 06:50:25             NaN   \n",
      "99982    5314   12       1  41      259  2017-11-09 02:09:20             NaN   \n",
      "99983   51379    3       1  41      135  2017-11-07 01:48:00             NaN   \n",
      "99984  185961   27       1  13      122  2017-11-07 05:02:01             NaN   \n",
      "99985   61500    3       1  10      280  2017-11-09 01:50:53             NaN   \n",
      "99986  119614    2       1  19      219  2017-11-07 11:27:54             NaN   \n",
      "99987   41851   11       1  28      319  2017-11-08 13:19:42             NaN   \n",
      "99988   69449    6       1  13      125  2017-11-09 13:53:30             NaN   \n",
      "99989   92730    3       1  19      379  2017-11-07 11:02:08             NaN   \n",
      "99990   84388    9       1  22      107  2017-11-09 04:21:28             NaN   \n",
      "99991   43374    1       1  18      134  2017-11-09 12:42:34             NaN   \n",
      "99992  125061   12       1  13      328  2017-11-07 09:33:14             NaN   \n",
      "99993  146258    3       1  13      280  2017-11-09 03:03:17             NaN   \n",
      "99994  147153   13       1  13      477  2017-11-07 07:34:13             NaN   \n",
      "99995  124883   11       1  19      122  2017-11-09 13:25:41             NaN   \n",
      "99996   85150    9       1  13      244  2017-11-07 11:25:43             NaN   \n",
      "99997   18839    3       1  13       19  2017-11-08 11:38:42             NaN   \n",
      "99998  114276   15       1  12      245  2017-11-08 17:55:21             NaN   \n",
      "99999  119349   14       1  15      401  2017-11-07 14:32:27             NaN   \n",
      "\n",
      "       is_attributed  \n",
      "0                  0  \n",
      "1                  0  \n",
      "2                  0  \n",
      "3                  0  \n",
      "4                  0  \n",
      "5                  0  \n",
      "6                  0  \n",
      "7                  0  \n",
      "8                  0  \n",
      "9                  0  \n",
      "10                 0  \n",
      "11                 0  \n",
      "12                 0  \n",
      "13                 0  \n",
      "14                 0  \n",
      "15                 0  \n",
      "16                 0  \n",
      "17                 0  \n",
      "18                 0  \n",
      "19                 0  \n",
      "20                 0  \n",
      "21                 0  \n",
      "22                 0  \n",
      "23                 0  \n",
      "24                 0  \n",
      "25                 0  \n",
      "26                 0  \n",
      "27                 0  \n",
      "28                 0  \n",
      "29                 0  \n",
      "...              ...  \n",
      "99970              0  \n",
      "99971              0  \n",
      "99972              0  \n",
      "99973              0  \n",
      "99974              0  \n",
      "99975              0  \n",
      "99976              0  \n",
      "99977              0  \n",
      "99978              0  \n",
      "99979              0  \n",
      "99980              0  \n",
      "99981              0  \n",
      "99982              0  \n",
      "99983              0  \n",
      "99984              0  \n",
      "99985              0  \n",
      "99986              0  \n",
      "99987              0  \n",
      "99988              0  \n",
      "99989              0  \n",
      "99990              0  \n",
      "99991              0  \n",
      "99992              0  \n",
      "99993              0  \n",
      "99994              0  \n",
      "99995              0  \n",
      "99996              0  \n",
      "99997              0  \n",
      "99998              0  \n",
      "99999              0  \n",
      "\n",
      "[100000 rows x 8 columns]\n"
     ]
    }
   ],
   "source": [
    "print data"
   ]
  },
  {
   "cell_type": "markdown",
   "metadata": {},
   "source": [
    "Resumo estatítico\n",
    "--------------------"
   ]
  },
  {
   "cell_type": "code",
   "execution_count": 5,
   "metadata": {},
   "outputs": [
    {
     "name": "stdout",
     "output_type": "stream",
     "text": [
      "                  ip           app         device             os  \\\n",
      "count  100000.000000  100000.00000  100000.000000  100000.000000   \n",
      "mean    91255.879670      12.04788      21.771250      22.818280   \n",
      "std     69835.553661      14.94150     259.667767      55.943136   \n",
      "min         9.000000       1.00000       0.000000       0.000000   \n",
      "25%     40552.000000       3.00000       1.000000      13.000000   \n",
      "50%     79827.000000      12.00000       1.000000      18.000000   \n",
      "75%    118252.000000      15.00000       1.000000      19.000000   \n",
      "max    364757.000000     551.00000    3867.000000     866.000000   \n",
      "\n",
      "             channel  is_attributed  \n",
      "count  100000.000000  100000.000000  \n",
      "mean      268.832460       0.002270  \n",
      "std       129.724248       0.047591  \n",
      "min         3.000000       0.000000  \n",
      "25%       145.000000       0.000000  \n",
      "50%       258.000000       0.000000  \n",
      "75%       379.000000       0.000000  \n",
      "max       498.000000       1.000000  \n"
     ]
    }
   ],
   "source": [
    "\n",
    "print data.describe()"
   ]
  },
  {
   "cell_type": "markdown",
   "metadata": {},
   "source": [
    "Validação Cruzada\n",
    "------------------"
   ]
  },
  {
   "cell_type": "code",
   "execution_count": 6,
   "metadata": {},
   "outputs": [
    {
     "name": "stderr",
     "output_type": "stream",
     "text": [
      "/usr/local/lib/python2.7/dist-packages/sklearn/cross_validation.py:41: DeprecationWarning: This module was deprecated in version 0.18 in favor of the model_selection module into which all the refactored classes and functions are moved. Also note that the interface of the new CV iterators are different from that of this module. This module will be removed in 0.20.\n",
      "  \"This module will be removed in 0.20.\", DeprecationWarning)\n"
     ]
    }
   ],
   "source": [
    "from sklearn.cross_validation import train_test_split\n",
    "X_train, X_test, y_train, y_test = train_test_split(X, y, test_size=0.25, random_state=42)\n"
   ]
  },
  {
   "cell_type": "markdown",
   "metadata": {},
   "source": [
    "Criação e treinamento do modelo\n",
    "-----------------------------------"
   ]
  },
  {
   "cell_type": "code",
   "execution_count": 55,
   "metadata": {},
   "outputs": [
    {
     "name": "stdout",
     "output_type": "stream",
     "text": [
      "[0.04053626 0.04053626 0.04053626 ... 0.04053626 0.04053626 0.0403681 ]\n"
     ]
    }
   ],
   "source": [
    "train_data=lgb.Dataset(X_train,label=y_train)\n",
    "\n",
    "param = {'num_leaves':150, 'objective':'binary','max_depth':7,'learning_rate':.05,'max_bin':200}\n",
    "\n",
    "param['metric'] = ['auc', 'binary_logloss']\n",
    "\n",
    "num_round=50\n",
    "\n",
    "lgbm=lgb.train(param,train_data,num_round)\n",
    "\n",
    "ypred2=lgbm.predict(X_test)\n",
    "\n",
    "print ypred2"
   ]
  },
  {
   "cell_type": "code",
   "execution_count": 66,
   "metadata": {},
   "outputs": [],
   "source": [
    "for i in range(0,25000):\n",
    "    if ypred2[i]>=0.5:       # setting threshold to .5\n",
    "       ypred2[i]=1\n",
    "    else:  \n",
    "       ypred2[i]=0"
   ]
  },
  {
   "cell_type": "code",
   "execution_count": 67,
   "metadata": {},
   "outputs": [
    {
     "name": "stdout",
     "output_type": "stream",
     "text": [
      "[0. 1.]\n"
     ]
    },
    {
     "ename": "TypeError",
     "evalue": "'inplace' is an invalid keyword argument for this function",
     "output_type": "error",
     "traceback": [
      "\u001b[0;31m---------------------------------------------------------------------------\u001b[0m",
      "\u001b[0;31mTypeError\u001b[0m                                 Traceback (most recent call last)",
      "\u001b[0;32m<ipython-input-67-50154be6e549>\u001b[0m in \u001b[0;36m<module>\u001b[0;34m()\u001b[0m\n\u001b[1;32m      1\u001b[0m \u001b[0;32mprint\u001b[0m\u001b[0;34m(\u001b[0m\u001b[0mnp\u001b[0m\u001b[0;34m.\u001b[0m\u001b[0munique\u001b[0m\u001b[0;34m(\u001b[0m\u001b[0mypred2\u001b[0m\u001b[0;34m)\u001b[0m\u001b[0;34m)\u001b[0m\u001b[0;34m\u001b[0m\u001b[0m\n\u001b[0;32m----> 2\u001b[0;31m \u001b[0;32mprint\u001b[0m \u001b[0mypred2\u001b[0m\u001b[0;34m.\u001b[0m\u001b[0mastype\u001b[0m\u001b[0;34m(\u001b[0m\u001b[0mint\u001b[0m\u001b[0;34m,\u001b[0m \u001b[0minplace\u001b[0m\u001b[0;34m=\u001b[0m\u001b[0mTrue\u001b[0m\u001b[0;34m)\u001b[0m\u001b[0;34m\u001b[0m\u001b[0m\n\u001b[0m\u001b[1;32m      3\u001b[0m \u001b[0;32mprint\u001b[0m\u001b[0;34m(\u001b[0m\u001b[0mnp\u001b[0m\u001b[0;34m.\u001b[0m\u001b[0munique\u001b[0m\u001b[0;34m(\u001b[0m\u001b[0mypred2\u001b[0m\u001b[0;34m)\u001b[0m\u001b[0;34m)\u001b[0m\u001b[0;34m\u001b[0m\u001b[0m\n",
      "\u001b[0;31mTypeError\u001b[0m: 'inplace' is an invalid keyword argument for this function"
     ]
    }
   ],
   "source": [
    "\n"
   ]
  },
  {
   "cell_type": "code",
   "execution_count": 30,
   "metadata": {},
   "outputs": [
    {
     "name": "stdout",
     "output_type": "stream",
     "text": [
      "[0.03816263 0.03816381 0.03817622 0.03851524 0.03902354 0.03907208\n",
      " 0.03911964 0.03919604 0.03920877 0.03928153 0.03974966 0.03985906\n",
      " 0.04007963 0.0400828  0.04012744 0.04013797 0.04018018 0.0402371\n",
      " 0.04026408 0.04027131 0.04027709 0.0402814  0.0402814  0.04029122\n",
      " 0.04029226 0.04030346 0.04032833 0.04033378 0.04034508 0.0403484\n",
      " 0.0403484  0.04036059 0.04036772 0.04036773 0.0403681  0.0403681\n",
      " 0.04036814 0.04036814 0.04036815 0.04036856 0.04037902 0.04039922\n",
      " 0.04042833 0.04053626 0.04055652 0.04056133 0.04057654 0.04058568\n",
      " 0.04058575 0.04062939 0.0406931  0.04075221 0.04077258 0.04080188\n",
      " 0.04080195 0.04100008 0.04126464 0.04130918 0.04151701 0.04165723\n",
      " 0.0423879  0.04264078 0.04278154 0.04284354 0.04286491 0.04289065\n",
      " 0.04289565 0.04309496 0.04311977 0.04322461 0.04378729 0.04403211\n",
      " 0.04467214 0.04488585 0.04493558 0.04496451 0.04497795 0.04513067\n",
      " 0.04513112 0.04519541 0.04520149 0.0459988  0.0462521  0.04698356\n",
      " 0.04822832 0.04834215 0.04840127 0.04878916 0.04915594 0.0491803\n",
      " 0.04921534 0.05008051 0.0501873  0.05041963 0.05063515 0.05134211\n",
      " 0.0516378  0.05167172 0.05197796 0.0522786  0.0525342  0.05255041\n",
      " 0.05268464 0.05273916 0.05285069 0.05294155 0.05301141 0.0536172\n",
      " 0.05374962 0.05376936 0.05379576 0.05391625 0.05403372 0.05408186\n",
      " 0.0542146  0.05439355 0.05490223 0.05552695 0.05559943 0.05643737\n",
      " 0.05687476 0.05698257 0.05720264 0.05727356 0.05734841 0.05782105\n",
      " 0.05887509 0.05920582 0.05945315 0.05948229 0.0595242  0.06020202\n",
      " 0.06028889 0.06039183 0.06055905 0.06075314 0.06085049 0.06116556\n",
      " 0.06135838 0.06225844 0.06324456 0.06326092 0.06345363 0.06349183\n",
      " 0.0636802  0.06436273 0.06517172 0.06535818 0.06543325 0.06549848\n",
      " 0.06638193 0.0667769  0.06770324 0.06798381 0.06833556 0.06847859\n",
      " 0.06928296 0.07105685 0.07112918 0.07260549 0.07265986 0.07420968\n",
      " 0.07432228 0.07445014 0.07470501 0.07635342 0.07750024 0.07783995\n",
      " 0.07785223 0.07985922 0.07998489 0.08043147 0.08074572 0.08086856\n",
      " 0.081217   0.0814252  0.08210478 0.08342131 0.08365203 0.08390892\n",
      " 0.08416784 0.08453755 0.08554137 0.08677402 0.0869012  0.08702258\n",
      " 0.08786071 0.08839997 0.09007262 0.09057166 0.0910963  0.09138929\n",
      " 0.09184726 0.0921944  0.09262912 0.09317888 0.0938093  0.0939575\n",
      " 0.09398775 0.09695569 0.09699959 0.09727331 0.09817926 0.09929855\n",
      " 0.10025313 0.10180521 0.10180925 0.10309404 0.10710446 0.1088989\n",
      " 0.10990874 0.11059807 0.11106433 0.11162635 0.11420988 0.11665724\n",
      " 0.11698327 0.11773885 0.11819008 0.12205997 0.12214488 0.12299545\n",
      " 0.12386122 0.12412728 0.12428014 0.126342   0.12878842 0.13039793\n",
      " 0.13226602 0.13605646 0.13745632 0.13891003 0.13946542 0.14472758\n",
      " 0.14647111 0.14748485 0.14865984 0.15119065 0.15260667 0.15363459\n",
      " 0.1538445  0.15701545 0.15732627 0.15945177 0.15994153 0.16119434\n",
      " 0.16167065 0.16498003 0.16521028 0.16635455 0.16737519 0.1679585\n",
      " 0.17190007 0.17359836 0.17437776 0.17458276 0.17616065 0.1767108\n",
      " 0.17960135 0.18161597 0.18249183 0.1826214  0.18294218 0.18497491\n",
      " 0.18653629 0.18896472 0.19199879 0.19227908 0.19727681 0.19860408\n",
      " 0.19948443 0.19951311 0.2007587  0.20095926 0.20336901 0.20469759\n",
      " 0.20568716 0.20736794 0.20988523 0.21278286 0.21774124 0.22211932\n",
      " 0.22620937 0.2315353  0.23155098 0.24873629 0.24970566 0.25745499\n",
      " 0.25829312 0.25936193 0.26231098 0.26288438 0.26588936 0.26898094\n",
      " 0.27252403 0.27407075 0.27958172 0.28515402 0.29591389 0.29976347\n",
      " 0.30282002 0.3037245  0.30872084 0.31519811 0.31999486 0.32499704\n",
      " 0.32580053 0.33151405 0.34025525 0.34300857 0.34684243 0.3584542\n",
      " 0.35947659 0.35973576 0.36089874 0.36398254 0.38811857 0.39249365\n",
      " 0.3940837  0.39504478 0.39690127 0.39954135 0.41637508 0.41873351\n",
      " 0.42748133 0.42764911 0.4412383  0.45767687 0.45865142 0.46205043\n",
      " 0.46470852 0.47740602 0.47933845 0.48974607 0.5103524  0.51816268\n",
      " 0.55335892 0.62236143 0.63431263 0.65934651 0.67232873 0.68167125\n",
      " 0.71327606 0.72030444]\n"
     ]
    }
   ],
   "source": []
  },
  {
   "cell_type": "code",
   "execution_count": 22,
   "metadata": {},
   "outputs": [],
   "source": [
    "gbm = lgb.LGBMRegressor(boosting_type='gbdt',\n",
    "                        objective='binary',\n",
    "                        num_leaves=31,\n",
    "                        learning_rate=0.05,\n",
    "                        n_estimators=20)"
   ]
  },
  {
   "cell_type": "code",
   "execution_count": 23,
   "metadata": {},
   "outputs": [
    {
     "name": "stdout",
     "output_type": "stream",
     "text": [
      "[1]\tvalid_0's auc: 0.85243\n",
      "Training until validation scores don't improve for 5 rounds.\n",
      "[2]\tvalid_0's auc: 0.895509\n",
      "[3]\tvalid_0's auc: 0.895481\n",
      "[4]\tvalid_0's auc: 0.916691\n",
      "[5]\tvalid_0's auc: 0.916652\n",
      "[6]\tvalid_0's auc: 0.916744\n",
      "[7]\tvalid_0's auc: 0.916472\n",
      "[8]\tvalid_0's auc: 0.916448\n",
      "[9]\tvalid_0's auc: 0.945792\n",
      "[10]\tvalid_0's auc: 0.945795\n",
      "[11]\tvalid_0's auc: 0.945748\n",
      "[12]\tvalid_0's auc: 0.945755\n",
      "[13]\tvalid_0's auc: 0.94573\n",
      "[14]\tvalid_0's auc: 0.943327\n",
      "[15]\tvalid_0's auc: 0.943331\n",
      "Early stopping, best iteration is:\n",
      "[10]\tvalid_0's auc: 0.945795\n"
     ]
    },
    {
     "data": {
      "text/plain": [
       "LGBMRegressor(boosting_type='gbdt', class_weight=None, colsample_bytree=1.0,\n",
       "       learning_rate=0.05, max_depth=-1, min_child_samples=20,\n",
       "       min_child_weight=0.001, min_split_gain=0.0, n_estimators=20,\n",
       "       n_jobs=-1, num_leaves=31, objective='binary', random_state=None,\n",
       "       reg_alpha=0.0, reg_lambda=0.0, silent=True, subsample=1.0,\n",
       "       subsample_for_bin=200000, subsample_freq=1)"
      ]
     },
     "execution_count": 23,
     "metadata": {},
     "output_type": "execute_result"
    }
   ],
   "source": [
    "gbm.fit(X_train, y_train,\n",
    "        eval_set=[(X_test, y_test)],\n",
    "        eval_metric='auc',\n",
    "early_stopping_rounds=5)"
   ]
  },
  {
   "cell_type": "markdown",
   "metadata": {},
   "source": [
    "Prevendo classificação dos dados\n",
    "-------------------------------------"
   ]
  },
  {
   "cell_type": "code",
   "execution_count": 9,
   "metadata": {
    "collapsed": true
   },
   "outputs": [],
   "source": [
    "#X_test = pd.read_csv('test.csv')"
   ]
  },
  {
   "cell_type": "code",
   "execution_count": 10,
   "metadata": {},
   "outputs": [],
   "source": [
    "#print X_test.shape"
   ]
  },
  {
   "cell_type": "code",
   "execution_count": 24,
   "metadata": {},
   "outputs": [
    {
     "name": "stdout",
     "output_type": "stream",
     "text": [
      "[0.30085356 0.30085356 0.30085356 ... 0.30085356 0.30085356 0.30095158]\n"
     ]
    }
   ],
   "source": [
    "#X_test.drop(['click_id', 'click_time'], axis=1, inplace=True)\n",
    "y_pred = gbm.predict(X_test, num_iteration=gbm.best_iteration_)\n",
    "print y_pred"
   ]
  },
  {
   "cell_type": "code",
   "execution_count": 25,
   "metadata": {},
   "outputs": [
    {
     "data": {
      "text/plain": [
       "25000"
      ]
     },
     "execution_count": 25,
     "metadata": {},
     "output_type": "execute_result"
    }
   ],
   "source": [
    "len(y_pred)"
   ]
  },
  {
   "cell_type": "markdown",
   "metadata": {},
   "source": [
    "Acurácia das classificações feitas\n",
    "---------------------------------------"
   ]
  },
  {
   "cell_type": "code",
   "execution_count": 27,
   "metadata": {},
   "outputs": [
    {
     "name": "stdout",
     "output_type": "stream",
     "text": [
      "[0.29985473 0.30021303 0.30065489 0.30066668 0.30068033 0.30085356\n",
      " 0.30095158 0.30120276 0.30121982 0.30131798 0.30132136 0.30133843\n",
      " 0.30142497 0.3016587  0.30222942 0.30255334 0.30303318 0.30304501\n",
      " 0.3038067  0.303913   0.30453333 0.30473116 0.30550019 0.30682899\n",
      " 0.30888704 0.30970065 0.30971263 0.30971678 0.31048361 0.31480209\n",
      " 0.31618606 0.31649541 0.31711749 0.31843673 0.32056581 0.32223252\n",
      " 0.32235559 0.32252054 0.32336552 0.32359551 0.32415965 0.32701377\n",
      " 0.32851196 0.32988697 0.33291083 0.33323753 0.33514331 0.33751648\n",
      " 0.33854472 0.34001473 0.34031597 0.34123572 0.34227708 0.3429218\n",
      " 0.34373788 0.34454975 0.34482227 0.34578418 0.34662087 0.34923685\n",
      " 0.3504795  0.35246649 0.35259808 0.35594959 0.35607368 0.3563588\n",
      " 0.35820252 0.35933856 0.36277333 0.36466103 0.37003893 0.37609766\n",
      " 0.37615561 0.37629097 0.37711129 0.3844399  0.38457325 0.38814066\n",
      " 0.38865687 0.39741428 0.39933489 0.40355751 0.4224288  0.42554307\n",
      " 0.42807323 0.44207353 0.45038938 0.4594069  0.47165027 0.50839316\n",
      " 0.5121983  0.54098256 0.55453915]\n"
     ]
    }
   ],
   "source": [
    "print np.unique(y_pred)"
   ]
  },
  {
   "cell_type": "markdown",
   "metadata": {},
   "source": [
    "Guardando resultados\n",
    "------------------------"
   ]
  },
  {
   "cell_type": "code",
   "execution_count": 13,
   "metadata": {},
   "outputs": [
    {
     "ename": "NameError",
     "evalue": "name 'pred' is not defined",
     "output_type": "error",
     "traceback": [
      "\u001b[0;31m---------------------------------------------------------------------------\u001b[0m",
      "\u001b[0;31mNameError\u001b[0m                                 Traceback (most recent call last)",
      "\u001b[0;32m<ipython-input-13-ac2232d19acc>\u001b[0m in \u001b[0;36m<module>\u001b[0;34m()\u001b[0m\n\u001b[1;32m      1\u001b[0m \u001b[0;34m\u001b[0m\u001b[0m\n\u001b[0;32m----> 2\u001b[0;31m \u001b[0mdf\u001b[0m \u001b[0;34m=\u001b[0m \u001b[0mpd\u001b[0m\u001b[0;34m.\u001b[0m\u001b[0mDataFrame\u001b[0m\u001b[0;34m(\u001b[0m\u001b[0mdata\u001b[0m\u001b[0;34m=\u001b[0m\u001b[0mpred\u001b[0m\u001b[0;34m,\u001b[0m \u001b[0mcolumns\u001b[0m\u001b[0;34m=\u001b[0m\u001b[0;34m[\u001b[0m \u001b[0;34m'is_attributed'\u001b[0m\u001b[0;34m]\u001b[0m\u001b[0;34m)\u001b[0m\u001b[0;34m\u001b[0m\u001b[0m\n\u001b[0m\u001b[1;32m      3\u001b[0m \u001b[0mdf\u001b[0m\u001b[0;34m.\u001b[0m\u001b[0mindex\u001b[0m\u001b[0;34m.\u001b[0m\u001b[0mname\u001b[0m \u001b[0;34m=\u001b[0m \u001b[0;34m\"click_id\"\u001b[0m\u001b[0;34m\u001b[0m\u001b[0m\n\u001b[1;32m      4\u001b[0m \u001b[0mdf\u001b[0m\u001b[0;34m.\u001b[0m\u001b[0mis_attributed\u001b[0m \u001b[0;34m=\u001b[0m \u001b[0mdf\u001b[0m\u001b[0;34m.\u001b[0m\u001b[0mis_attributed\u001b[0m\u001b[0;34m.\u001b[0m\u001b[0mastype\u001b[0m\u001b[0;34m(\u001b[0m\u001b[0mint\u001b[0m\u001b[0;34m)\u001b[0m\u001b[0;34m\u001b[0m\u001b[0m\n",
      "\u001b[0;31mNameError\u001b[0m: name 'pred' is not defined"
     ]
    }
   ],
   "source": [
    "\n",
    "df = pd.DataFrame(data=pred, columns=[ 'is_attributed'])\n",
    "df.index.name = \"click_id\"\n",
    "df.is_attributed = df.is_attributed.astype(int)\n"
   ]
  },
  {
   "cell_type": "code",
   "execution_count": null,
   "metadata": {
    "collapsed": true,
    "scrolled": true
   },
   "outputs": [],
   "source": [
    "\n",
    "# print(df.is_attributed.unique())\n",
    "df.to_csv(\"saida.csv\")\n"
   ]
  },
  {
   "cell_type": "code",
   "execution_count": null,
   "metadata": {},
   "outputs": [],
   "source": [
    "print df.head()"
   ]
  },
  {
   "cell_type": "code",
   "execution_count": null,
   "metadata": {
    "collapsed": true
   },
   "outputs": [],
   "source": [
    "oi = pd.read_csv('saida.csv')"
   ]
  },
  {
   "cell_type": "code",
   "execution_count": null,
   "metadata": {},
   "outputs": [],
   "source": [
    "print oi.shape"
   ]
  },
  {
   "cell_type": "code",
   "execution_count": null,
   "metadata": {},
   "outputs": [],
   "source": [
    "print oi.head()"
   ]
  },
  {
   "cell_type": "code",
   "execution_count": null,
   "metadata": {
    "collapsed": true
   },
   "outputs": [],
   "source": []
  }
 ],
 "metadata": {
  "kernelspec": {
   "display_name": "Python 2",
   "language": "python",
   "name": "python2"
  },
  "language_info": {
   "codemirror_mode": {
    "name": "ipython",
    "version": 2
   },
   "file_extension": ".py",
   "mimetype": "text/x-python",
   "name": "python",
   "nbconvert_exporter": "python",
   "pygments_lexer": "ipython2",
   "version": "2.7.12"
  }
 },
 "nbformat": 4,
 "nbformat_minor": 2
}

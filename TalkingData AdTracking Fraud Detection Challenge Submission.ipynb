{
 "cells": [
  {
   "cell_type": "markdown",
   "metadata": {},
   "source": [
    "TalkingData AdTracking Fraud Detection Challenge Submission\n",
    "================================"
   ]
  },
  {
   "cell_type": "markdown",
   "metadata": {},
   "source": [
    " A TalkingData, a maior plataforma de big data independente da China, cobre mais de 70% dos dispositivos móveis ativos em todo o país. Eles lidam com 3 bilhões de cliques por dia, dos quais 90% são potencialmente fraudulentos. Sua abordagem atual para impedir fraudes de cliques para desenvolvedores de aplicativos é medir a jornada do clique de um usuário em todo o portfólio e sinalizar endereços IP que produzem muitos cliques, mas nunca acabam instalando aplicativos. Com essas informações, eles criaram uma lista negra de IP e uma lista negra de dispositivos.\n",
    "\n",
    "  Embora bem-sucedidos, eles querem estar sempre um passo à frente dos fraudadores e pediram ajuda à comunidade de Kaggle para desenvolver ainda mais a solução. Em sua segunda competição com a Kaggle, você é desafiado a criar um algoritmo que prevê se um usuário fará o download de um aplicativo depois de clicar em um anúncio de aplicativo para dispositivos móveis. Para dar suporte à sua modelagem, eles forneceram um conjunto de dados generoso cobrindo aproximadamente 200 milhões de cliques em 4 dias!"
   ]
  },
  {
   "cell_type": "markdown",
   "metadata": {},
   "source": [
    "Bibliotecas\n",
    "-----------"
   ]
  },
  {
   "cell_type": "code",
   "execution_count": 1,
   "metadata": {},
   "outputs": [],
   "source": [
    "import sklearn\n",
    "import numpy as np \n",
    "import pandas as pd"
   ]
  },
  {
   "cell_type": "code",
   "execution_count": 2,
   "metadata": {},
   "outputs": [],
   "source": [
    "%matplotlib inline"
   ]
  },
  {
   "cell_type": "markdown",
   "metadata": {},
   "source": [
    "Leitura dos dados\n",
    "-------------------"
   ]
  },
  {
   "cell_type": "code",
   "execution_count": 74,
   "metadata": {},
   "outputs": [],
   "source": [
    "data = pd.read_csv('train.csv')\n",
    "#print data\n",
    "y = data['is_attributed']\n",
    "X = data.drop(['is_attributed', 'click_time', 'attributed_time'], axis=1)"
   ]
  },
  {
   "cell_type": "code",
   "execution_count": 16,
   "metadata": {},
   "outputs": [
    {
     "name": "stdout",
     "output_type": "stream",
     "text": [
      "               ip  app  device  os  channel           click_time  \\\n",
      "0           83230    3       1  13      379  2017-11-06 14:32:21   \n",
      "1           17357    3       1  19      379  2017-11-06 14:33:34   \n",
      "2           35810    3       1  13      379  2017-11-06 14:34:12   \n",
      "3           45745   14       1  13      478  2017-11-06 14:34:52   \n",
      "4          161007    3       1  13      379  2017-11-06 14:35:08   \n",
      "5           18787    3       1  16      379  2017-11-06 14:36:26   \n",
      "6          103022    3       1  23      379  2017-11-06 14:37:44   \n",
      "7          114221    3       1  19      379  2017-11-06 14:37:59   \n",
      "8          165970    3       1  13      379  2017-11-06 14:38:10   \n",
      "9           74544   64       1  22      459  2017-11-06 14:38:23   \n",
      "10         172522    3       1  25      379  2017-11-06 14:38:27   \n",
      "11         105861    3       1  13      379  2017-11-06 14:38:51   \n",
      "12         210962    3       1  19      379  2017-11-06 14:39:29   \n",
      "13         124979    3       1  18      379  2017-11-06 14:40:16   \n",
      "14          38816    3       1  18      379  2017-11-06 14:40:39   \n",
      "15          80447    3       1  19      379  2017-11-06 14:40:51   \n",
      "16         134575    3       1  13      379  2017-11-06 14:43:10   \n",
      "17          57576    3       1  19      379  2017-11-06 14:43:14   \n",
      "18           7755    3       1  13      379  2017-11-06 14:43:25   \n",
      "19          91749    3       1  19      379  2017-11-06 14:43:51   \n",
      "20          50694    3       1  18      379  2017-11-06 14:44:02   \n",
      "21         111385    3       1  18      379  2017-11-06 14:44:15   \n",
      "22         125222   14       1   3      478  2017-11-06 14:44:51   \n",
      "23         191759    3       1  13      379  2017-11-06 14:44:51   \n",
      "24          53418    3       1  17      379  2017-11-06 14:44:52   \n",
      "25         183168    3       1  19      379  2017-11-06 14:47:49   \n",
      "26          47902    3       1  17      379  2017-11-06 14:48:07   \n",
      "27         209663    3       1  13      379  2017-11-06 14:48:55   \n",
      "28         129614    3       1  20      379  2017-11-06 14:49:36   \n",
      "29         208347    3       1  19      379  2017-11-06 14:49:38   \n",
      "...           ...  ...     ...  ..      ...                  ...   \n",
      "184903860   37462    2       2   9      435  2017-11-09 16:00:00   \n",
      "184903861   37168    2       1  19      237  2017-11-09 16:00:00   \n",
      "184903862  163581    9       1   3      322  2017-11-09 16:00:00   \n",
      "184903863   34894    9       1  15      322  2017-11-09 16:00:00   \n",
      "184903864   49383   24       2  20      178  2017-11-09 16:00:00   \n",
      "184903865  258208    9       1  18      490  2017-11-09 16:00:00   \n",
      "184903866  121312    2       1  10      236  2017-11-09 16:00:00   \n",
      "184903867  100212   15       2  13       15  2017-11-09 16:00:00   \n",
      "184903868    7912    9       1  90      445  2017-11-09 16:00:00   \n",
      "184903869    2463    9       1  17      107  2017-11-09 16:00:00   \n",
      "184903870   43763    3       1  25      402  2017-11-09 16:00:00   \n",
      "184903871   88718   14       1  18      446  2017-11-09 16:00:00   \n",
      "184903872   77979   12       1  23      259  2017-11-09 16:00:00   \n",
      "184903873   84092   21       1  13      232  2017-11-09 16:00:00   \n",
      "184903874  119502   11       1   1      173  2017-11-09 16:00:00   \n",
      "184903875  123994   15       1  17      130  2017-11-09 16:00:00   \n",
      "184903876  112862    2       1  17      477  2017-11-09 16:00:00   \n",
      "184903877   22978    3       1  10      173  2017-11-09 16:00:00   \n",
      "184903878   48184   12       1  19      259  2017-11-09 16:00:00   \n",
      "184903879      88   23       1  19      153  2017-11-09 16:00:00   \n",
      "184903880  110840    2       1  17      435  2017-11-09 16:00:00   \n",
      "184903881  131635    2       1  17      435  2017-11-09 16:00:00   \n",
      "184903882    5314   18       1   3      107  2017-11-09 16:00:00   \n",
      "184903883   66000    1       2  37       13  2017-11-09 16:00:00   \n",
      "184903884  100212    1       2  13      125  2017-11-09 16:00:00   \n",
      "184903885  121312   12       1  10      340  2017-11-09 16:00:00   \n",
      "184903886   46894    3       1  19      211  2017-11-09 16:00:00   \n",
      "184903887  320126    1       1  13      274  2017-11-09 16:00:00   \n",
      "184903888  189286   12       1  37      259  2017-11-09 16:00:00   \n",
      "184903889  106485   11       1  19      137  2017-11-09 16:00:00   \n",
      "\n",
      "          attributed_time  is_attributed  \n",
      "0                     NaN              0  \n",
      "1                     NaN              0  \n",
      "2                     NaN              0  \n",
      "3                     NaN              0  \n",
      "4                     NaN              0  \n",
      "5                     NaN              0  \n",
      "6                     NaN              0  \n",
      "7                     NaN              0  \n",
      "8                     NaN              0  \n",
      "9                     NaN              0  \n",
      "10                    NaN              0  \n",
      "11                    NaN              0  \n",
      "12                    NaN              0  \n",
      "13                    NaN              0  \n",
      "14                    NaN              0  \n",
      "15                    NaN              0  \n",
      "16                    NaN              0  \n",
      "17                    NaN              0  \n",
      "18                    NaN              0  \n",
      "19                    NaN              0  \n",
      "20                    NaN              0  \n",
      "21                    NaN              0  \n",
      "22                    NaN              0  \n",
      "23                    NaN              0  \n",
      "24                    NaN              0  \n",
      "25                    NaN              0  \n",
      "26                    NaN              0  \n",
      "27                    NaN              0  \n",
      "28                    NaN              0  \n",
      "29                    NaN              0  \n",
      "...                   ...            ...  \n",
      "184903860             NaN              0  \n",
      "184903861             NaN              0  \n",
      "184903862             NaN              0  \n",
      "184903863             NaN              0  \n",
      "184903864             NaN              0  \n",
      "184903865             NaN              0  \n",
      "184903866             NaN              0  \n",
      "184903867             NaN              0  \n",
      "184903868             NaN              0  \n",
      "184903869             NaN              0  \n",
      "184903870             NaN              0  \n",
      "184903871             NaN              0  \n",
      "184903872             NaN              0  \n",
      "184903873             NaN              0  \n",
      "184903874             NaN              0  \n",
      "184903875             NaN              0  \n",
      "184903876             NaN              0  \n",
      "184903877             NaN              0  \n",
      "184903878             NaN              0  \n",
      "184903879             NaN              0  \n",
      "184903880             NaN              0  \n",
      "184903881             NaN              0  \n",
      "184903882             NaN              0  \n",
      "184903883             NaN              0  \n",
      "184903884             NaN              0  \n",
      "184903885             NaN              0  \n",
      "184903886             NaN              0  \n",
      "184903887             NaN              0  \n",
      "184903888             NaN              0  \n",
      "184903889             NaN              0  \n",
      "\n",
      "[184903890 rows x 8 columns]\n"
     ]
    }
   ],
   "source": [
    "print data"
   ]
  },
  {
   "cell_type": "markdown",
   "metadata": {},
   "source": [
    "Resumo estatítico\n",
    "--------------------"
   ]
  },
  {
   "cell_type": "code",
   "execution_count": 17,
   "metadata": {},
   "outputs": [
    {
     "name": "stdout",
     "output_type": "stream",
     "text": [
      "                 ip           app        device            os       channel  \\\n",
      "count  1.849039e+08  1.849039e+08  1.849039e+08  1.849039e+08  1.849039e+08   \n",
      "mean   9.087604e+04  1.201131e+01  2.172325e+01  2.267702e+01  2.685789e+02   \n",
      "std    6.952789e+04  1.480521e+01  2.593326e+02  5.525282e+01  1.295882e+02   \n",
      "min    1.000000e+00  0.000000e+00  0.000000e+00  0.000000e+00  0.000000e+00   \n",
      "25%    4.024500e+04  3.000000e+00  1.000000e+00  1.300000e+01  1.400000e+02   \n",
      "50%    7.962200e+04  1.200000e+01  1.000000e+00  1.800000e+01  2.580000e+02   \n",
      "75%    1.182470e+05  1.500000e+01  1.000000e+00  1.900000e+01  3.790000e+02   \n",
      "max    3.647780e+05  7.680000e+02  4.227000e+03  9.560000e+02  5.000000e+02   \n",
      "\n",
      "       is_attributed  \n",
      "count   1.849039e+08  \n",
      "mean    2.470721e-03  \n",
      "std     4.964491e-02  \n",
      "min     0.000000e+00  \n",
      "25%     0.000000e+00  \n",
      "50%     0.000000e+00  \n",
      "75%     0.000000e+00  \n",
      "max     1.000000e+00  \n"
     ]
    }
   ],
   "source": [
    "\n",
    "print data.describe()"
   ]
  },
  {
   "cell_type": "markdown",
   "metadata": {},
   "source": [
    "Validação Cruzada\n",
    "------------------"
   ]
  },
  {
   "cell_type": "code",
   "execution_count": 69,
   "metadata": {},
   "outputs": [],
   "source": [
    "#from sklearn.cross_validation import train_test_split\n",
    "#X_train, X_test, y_train, y_test = train_test_split(X, y, test_size=0.25, random_state=42)\n"
   ]
  },
  {
   "cell_type": "markdown",
   "metadata": {},
   "source": [
    "Criação e treinamento do modelo\n",
    "-----------------------------------"
   ]
  },
  {
   "cell_type": "code",
   "execution_count": 19,
   "metadata": {},
   "outputs": [
    {
     "name": "stdout",
     "output_type": "stream",
     "text": [
      "(array([0, 1]), array([184447044,    456846]))\n"
     ]
    }
   ],
   "source": [
    "print np.unique(y, return_counts=True)"
   ]
  },
  {
   "cell_type": "code",
   "execution_count": 75,
   "metadata": {},
   "outputs": [
    {
     "data": {
      "text/plain": [
       "DecisionTreeClassifier(class_weight=None, criterion='gini', max_depth=None,\n",
       "            max_features=None, max_leaf_nodes=None,\n",
       "            min_impurity_decrease=0.0, min_impurity_split=None,\n",
       "            min_samples_leaf=1, min_samples_split=2,\n",
       "            min_weight_fraction_leaf=0.0, presort=False, random_state=0,\n",
       "            splitter='best')"
      ]
     },
     "execution_count": 75,
     "metadata": {},
     "output_type": "execute_result"
    }
   ],
   "source": [
    "from sklearn.tree import DecisionTreeClassifier\n",
    "clf = DecisionTreeClassifier(random_state=0)\n",
    "clf.fit(X, y) \n"
   ]
  },
  {
   "cell_type": "code",
   "execution_count": 8,
   "metadata": {},
   "outputs": [
    {
     "name": "stdout",
     "output_type": "stream",
     "text": [
      "(array([0, 1]), array([74839,   161]))\n"
     ]
    }
   ],
   "source": []
  },
  {
   "cell_type": "markdown",
   "metadata": {},
   "source": [
    "Prevendo classificação dos dados\n",
    "-------------------------------------"
   ]
  },
  {
   "cell_type": "code",
   "execution_count": 76,
   "metadata": {},
   "outputs": [],
   "source": [
    "X_test = pd.read_csv('test.csv')"
   ]
  },
  {
   "cell_type": "code",
   "execution_count": 22,
   "metadata": {},
   "outputs": [
    {
     "name": "stdout",
     "output_type": "stream",
     "text": [
      "(18790469, 7)\n"
     ]
    }
   ],
   "source": [
    "#print X_test.shape"
   ]
  },
  {
   "cell_type": "code",
   "execution_count": 77,
   "metadata": {},
   "outputs": [
    {
     "name": "stdout",
     "output_type": "stream",
     "text": [
      "[0 0 0 ... 0 0 0]\n"
     ]
    }
   ],
   "source": [
    "X_test.drop(['click_id', 'click_time'], axis=1, inplace=True)\n",
    "pred = clf.predict(X_test)\n",
    "print pred"
   ]
  },
  {
   "cell_type": "markdown",
   "metadata": {},
   "source": [
    "Acurácia das classificações feitas\n",
    "---------------------------------------"
   ]
  },
  {
   "cell_type": "code",
   "execution_count": 78,
   "metadata": {},
   "outputs": [
    {
     "name": "stdout",
     "output_type": "stream",
     "text": [
      "(array([0, 1]), array([18759990,    30479]))\n"
     ]
    }
   ],
   "source": [
    "print np.unique(pred, return_counts=True)"
   ]
  },
  {
   "cell_type": "markdown",
   "metadata": {},
   "source": [
    "Guardando resultados\n",
    "------------------------"
   ]
  },
  {
   "cell_type": "code",
   "execution_count": 79,
   "metadata": {},
   "outputs": [],
   "source": [
    "\n",
    "df = pd.DataFrame(data=pred, columns=[ 'is_attributed'])\n",
    "df.index.name = \"click_id\"\n",
    "df.is_attributed = df.is_attributed.astype(int)\n"
   ]
  },
  {
   "cell_type": "code",
   "execution_count": 80,
   "metadata": {
    "scrolled": true
   },
   "outputs": [],
   "source": [
    "\n",
    "# print(df.is_attributed.unique())\n",
    "df.to_csv(\"saida.csv\")\n"
   ]
  },
  {
   "cell_type": "code",
   "execution_count": 82,
   "metadata": {},
   "outputs": [
    {
     "name": "stdout",
     "output_type": "stream",
     "text": [
      "          is_attributed\n",
      "click_id               \n",
      "0                     0\n",
      "1                     0\n",
      "2                     0\n",
      "3                     0\n",
      "4                     0\n"
     ]
    }
   ],
   "source": [
    "print df.head()"
   ]
  },
  {
   "cell_type": "code",
   "execution_count": 51,
   "metadata": {},
   "outputs": [],
   "source": [
    "oi = pd.read_csv('saida.csv')"
   ]
  },
  {
   "cell_type": "code",
   "execution_count": 52,
   "metadata": {},
   "outputs": [
    {
     "name": "stdout",
     "output_type": "stream",
     "text": [
      "(18790469, 2)\n"
     ]
    }
   ],
   "source": [
    "print oi.shape"
   ]
  },
  {
   "cell_type": "code",
   "execution_count": 53,
   "metadata": {},
   "outputs": [
    {
     "name": "stdout",
     "output_type": "stream",
     "text": [
      "   click_id  is_attributed\n",
      "0         0              0\n",
      "1         1              0\n",
      "2         2              0\n",
      "3         3              0\n",
      "4         4              0\n"
     ]
    }
   ],
   "source": [
    "print oi.head()"
   ]
  },
  {
   "cell_type": "code",
   "execution_count": null,
   "metadata": {},
   "outputs": [],
   "source": []
  }
 ],
 "metadata": {
  "kernelspec": {
   "display_name": "Python 3",
   "language": "python",
   "name": "python3"
  },
  "language_info": {
   "codemirror_mode": {
    "name": "ipython",
    "version": 2
   },
   "file_extension": ".py",
   "mimetype": "text/x-python",
   "name": "python",
   "nbconvert_exporter": "python",
   "pygments_lexer": "ipython2",
   "version": "2.7.14"
  }
 },
 "nbformat": 4,
 "nbformat_minor": 2
}
